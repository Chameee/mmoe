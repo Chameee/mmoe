{
 "cells": [
  {
   "cell_type": "code",
   "execution_count": 98,
   "id": "afad38ad-51b0-4ccd-a2da-04cc7cc84244",
   "metadata": {},
   "outputs": [],
   "source": [
    "import numpy as np\n",
    "import torch\n",
    "import torch.nn as nn\n",
    "from torch.utils.data import DataLoader\n",
    "import torch.optim as optim\n",
    "import random\n",
    "import pandas as pd\n",
    "from sklearn.metrics import roc_auc_score\n",
    "\n",
    "import warnings\n",
    "warnings.filterwarnings(\"ignore\")"
   ]
  },
  {
   "cell_type": "code",
   "execution_count": 99,
   "id": "4e17883c-ea49-4aa0-9a28-18a642d687b2",
   "metadata": {
    "tags": []
   },
   "outputs": [],
   "source": [
    "pd.options.display.max_rows = 100\n",
    "pd.set_option('display.max_columns', 1000)\n",
    "pd.set_option('display.max_rows', 1000)\n",
    "pd.set_option('display.width', 1000)\n",
    "pd.set_option('display.max_colwidth', 1000)"
   ]
  },
  {
   "cell_type": "code",
   "execution_count": 100,
   "id": "cf67ce54-9afd-4e34-9705-4b5aa29a6ec1",
   "metadata": {
    "tags": []
   },
   "outputs": [
    {
     "name": "stdout",
     "output_type": "stream",
     "text": [
      "Fri Dec 29 22:09:22 2023       \n",
      "+-----------------------------------------------------------------------------+\n",
      "| NVIDIA-SMI 450.191.01   Driver Version: 450.191.01   CUDA Version: 11.0     |\n",
      "|-------------------------------+----------------------+----------------------+\n",
      "| GPU  Name        Persistence-M| Bus-Id        Disp.A | Volatile Uncorr. ECC |\n",
      "| Fan  Temp  Perf  Pwr:Usage/Cap|         Memory-Usage | GPU-Util  Compute M. |\n",
      "|                               |                      |               MIG M. |\n",
      "|===============================+======================+======================|\n",
      "|   0  Tesla V100-SXM2...  On   | 00000000:1B:00.0 Off |                    0 |\n",
      "| N/A   47C    P0    75W / 300W |   1710MiB / 32510MiB |      0%      Default |\n",
      "|                               |                      |                  N/A |\n",
      "+-------------------------------+----------------------+----------------------+\n",
      "                                                                               \n",
      "+-----------------------------------------------------------------------------+\n",
      "| Processes:                                                                  |\n",
      "|  GPU   GI   CI        PID   Type   Process name                  GPU Memory |\n",
      "|        ID   ID                                                   Usage      |\n",
      "|=============================================================================|\n",
      "+-----------------------------------------------------------------------------+\n"
     ]
    }
   ],
   "source": [
    "!nvidia-smi"
   ]
  },
  {
   "cell_type": "code",
   "execution_count": 101,
   "id": "5ff37979-2716-414b-9de0-97d1dff96944",
   "metadata": {
    "tags": []
   },
   "outputs": [],
   "source": [
    "\n",
    "random.seed(3)\n",
    "np.random.seed(3)\n",
    "seed = 3\n",
    "batch_size = 1024\n",
    "\n",
    "device = 'cuda' if torch.cuda.is_available() else 'cpu'\n",
    "\n"
   ]
  },
  {
   "cell_type": "code",
   "execution_count": 102,
   "id": "c091b661-5e4f-4bfe-bffc-d470de591672",
   "metadata": {
    "tags": []
   },
   "outputs": [
    {
     "data": {
      "text/plain": [
       "'cuda'"
      ]
     },
     "execution_count": 102,
     "metadata": {},
     "output_type": "execute_result"
    }
   ],
   "source": [
    "device"
   ]
  },
  {
   "cell_type": "code",
   "execution_count": 103,
   "id": "93d0cc7d-48da-42f5-9ee9-55dea0fc75ce",
   "metadata": {
    "tags": []
   },
   "outputs": [
    {
     "name": "stdout",
     "output_type": "stream",
     "text": [
      "/root/.jupyter/connection\n"
     ]
    }
   ],
   "source": [
    "!pwd"
   ]
  },
  {
   "cell_type": "code",
   "execution_count": 104,
   "id": "9e311ac0-e550-4d76-a393-91235d69f58d",
   "metadata": {
    "tags": []
   },
   "outputs": [],
   "source": [
    "def to_categorical(y, num_classes=None, dtype='float32'):\n",
    "    y = np.array(y, dtype='int')\n",
    "    input_shape = y.shape\n",
    "    if input_shape and input_shape[-1]==1 and len(input_shape)>1:\n",
    "        input_shape = tuple(input_shape[:-1])\n",
    "    y = y.ravel()  # 拉成一维矩阵\n",
    "    if not num_classes:\n",
    "        num_classes = np.max(y) + 1\n",
    "    n = y.shape[0]\n",
    "    categorical = np.zeros((n, num_classes), dtype=dtype)\n",
    "    categorical[np.arange(n), y] = 1\n",
    "    output_shape = input_shape + (num_classes, )\n",
    "    categorical = np.reshape(categorical, output_shape)\n",
    "    return categorical\n",
    "\n"
   ]
  },
  {
   "cell_type": "code",
   "execution_count": 105,
   "id": "e16a1b99-f475-48b7-bccc-dba180e80899",
   "metadata": {
    "tags": []
   },
   "outputs": [],
   "source": [
    "\n",
    "def data_preparation():\n",
    "    column_names = ['country_y', 'yearmonth', 'media_gained_decisiondate', \n",
    "            'media_total_decisiondate', 'followers_gained_decisiondate', 'followers_total_decisiondate', 'following_gained_decisiondate', \n",
    "            'following_total_decisiondate', 'media_gained_decisiondate_7days', 'media_total_decisiondate_7days', 'followers_gained_decisiondate_7days', \n",
    "            'followers_total_decisiondate_7days', 'following_gained_decisiondate_7days', 'following_total_decisiondate_7days', 'media_gained_decisiondate_15days', \n",
    "            'media_total_decisiondate_15days', 'followers_gained_decisiondate_15days', 'followers_total_decisiondate_15days', 'following_gained_decisiondate_15days', \n",
    "            'following_total_decisiondate_15days', 'media_gained_decisiondate_30days', 'media_total_decisiondate_30days', 'followers_gained_decisiondate_30days', \n",
    "            'followers_total_decisiondate_30days', 'following_gained_decisiondate_30days', 'following_total_decisiondate_30days', 'media_gained_decisiondate_60days', \n",
    "            'media_total_decisiondate_60days', 'followers_gained_decisiondate_60days', 'followers_total_decisiondate_60days', 'following_gained_decisiondate_60days', \n",
    "            'following_total_decisiondate_60days', 'media_gained_decisiondate_90days', 'media_total_decisiondate_90days', 'followers_gained_decisiondate_90days', \n",
    "            'followers_total_decisiondate_90days', 'following_gained_decisiondate_90days', 'following_total_decisiondate_90days', 'followers_rate_decisiondate_7days', \n",
    "            'following_rate_decisiondate_7days', 'media_rate_decisiondate_7days', 'followers_rate_decisiondate_15days', 'following_rate_decisiondate_15days', \n",
    "            'media_rate_decisiondate_15days', 'followers_rate_decisiondate_30days', 'following_rate_decisiondate_30days', 'media_rate_decisiondate_30days', \n",
    "            'followers_rate_decisiondate_60days', 'following_rate_decisiondate_60days', 'media_rate_decisiondate_60days', 'followers_rate_decisiondate_90days', \n",
    "            'following_rate_decisiondate_90days', 'media_rate_decisiondate_90days',  'avg_total_orders', 'avg_new_customers', 'avg_customer_num', \n",
    "            'first_campaign_time', 'new_influencer', 'last_orders_total', 'last_new_customers', 'last_customer_num', 'days_from_last_posting', \n",
    "            'days_from_last_sponsored', 'days_from_last_org_branded', 'days_from_last_org_nonbranded', 'days_interval_posting', 'days_interval_sponsored', \n",
    "            'days_interval_org_branded', 'days_interval_org_nonbranded', '90days_comment_count', '90days_like_count', 'num_sponsored_posts_90days', \n",
    "            'num_organic_branded_90days', 'num_organic_nonbranded_90days', 'num_posts_90days', '60days_comment_count', '60days_like_count', \n",
    "            'num_sponsored_posts_60days', 'num_organic_branded_60days', 'num_organic_nonbranded_60days', 'num_posts_60days', '30days_comment_count', \n",
    "            '30days_like_count', 'num_sponsored_posts_30days', 'num_organic_branded_30days', 'num_organic_nonbranded_30days', 'num_posts_30days', \n",
    "            '15days_comment_count', '15days_like_count', 'num_sponsored_posts_15days', 'num_organic_branded_15days', 'num_organic_nonbranded_15days', \n",
    "            'num_posts_15days', '7days_comment_count', '7days_like_count', 'num_sponsored_posts_7days', 'num_organic_branded_7days', 'num_organic_nonbranded_7days', \n",
    "            'num_posts_7days', 'accept', 'Revenue', 'reputation_change_v2']\n",
    "\n",
    "    df = pd.read_csv('/var/tmp/code/recommendation_model/mmoe_model/data/precampaign_duringcampaign_features_acceptance_decision_performance_0502.csv', delimiter=',', index_col=None, low_memory=False)\n",
    "    df = df[column_names]\n",
    "\n",
    "#     train_df = pd.read_csv('/var/tmp/code/recommendation_model/mmoe_model/data/census-income.data.gz', delimiter=',', header=None, index_col=None, names=column_names)\n",
    "#     test_df = pd.read_csv('/var/tmp/code/recommendation_model/mmoe_model/data/census-income.test.gz', delimiter=',', header=None, index_col=None, names=column_names)\n",
    "\n",
    "    # 论文中第一组任务\n",
    "    label_columns = ['accept', 'Revenue', 'reputation_change_v2']\n",
    "\n",
    "    categorical_columns = ['first_campaign_time', 'country_y', 'yearmonth']\n",
    "\n",
    "    df.fillna(0, inplace=True)\n",
    "    df_transformed = pd.get_dummies(df.drop(label_columns, axis=1), columns=categorical_columns)\n",
    "    df_labels = df[label_columns]\n",
    "\n",
    "\n",
    "    return df_transformed, df_labels\n"
   ]
  },
  {
   "cell_type": "code",
   "execution_count": 106,
   "id": "68ff4da4-dd49-4f51-a1cb-76be924248a5",
   "metadata": {
    "tags": []
   },
   "outputs": [],
   "source": [
    "df_transformed, df_labels = data_preparation()"
   ]
  },
  {
   "cell_type": "code",
   "execution_count": 107,
   "id": "77cef364-1246-4687-833d-5b86713c7cee",
   "metadata": {
    "tags": []
   },
   "outputs": [
    {
     "data": {
      "text/plain": [
       "media_gained_decisiondate                  0.000000\n",
       "media_total_decisiondate                  82.000000\n",
       "followers_gained_decisiondate             -1.000000\n",
       "followers_total_decisiondate            3334.000000\n",
       "following_gained_decisiondate             -3.000000\n",
       "following_total_decisiondate             687.000000\n",
       "media_gained_decisiondate_7days           -1.000000\n",
       "media_total_decisiondate_7days            86.000000\n",
       "followers_gained_decisiondate_7days        3.000000\n",
       "followers_total_decisiondate_7days      3330.000000\n",
       "following_gained_decisiondate_7days        0.000000\n",
       "following_total_decisiondate_7days       689.000000\n",
       "media_gained_decisiondate_15days          -1.000000\n",
       "media_total_decisiondate_15days           88.000000\n",
       "followers_gained_decisiondate_15days      14.000000\n",
       "followers_total_decisiondate_15days     3308.000000\n",
       "following_gained_decisiondate_15days      -1.000000\n",
       "following_total_decisiondate_15days      688.000000\n",
       "media_gained_decisiondate_30days           0.000000\n",
       "media_total_decisiondate_30days           86.000000\n",
       "followers_gained_decisiondate_30days      -2.000000\n",
       "followers_total_decisiondate_30days     3310.000000\n",
       "following_gained_decisiondate_30days      -1.000000\n",
       "following_total_decisiondate_30days      693.000000\n",
       "media_gained_decisiondate_60days           0.000000\n",
       "media_total_decisiondate_60days           83.000000\n",
       "followers_gained_decisiondate_60days       1.000000\n",
       "followers_total_decisiondate_60days     3230.000000\n",
       "following_gained_decisiondate_60days       0.000000\n",
       "following_total_decisiondate_60days      695.000000\n",
       "media_gained_decisiondate_90days           0.000000\n",
       "media_total_decisiondate_90days           80.000000\n",
       "followers_gained_decisiondate_90days      -3.000000\n",
       "followers_total_decisiondate_90days     3226.000000\n",
       "following_gained_decisiondate_90days       1.000000\n",
       "following_total_decisiondate_90days      688.000000\n",
       "followers_rate_decisiondate_7days          0.571429\n",
       "following_rate_decisiondate_7days         -0.285714\n",
       "media_rate_decisiondate_7days             -0.571429\n",
       "followers_rate_decisiondate_15days         1.733333\n",
       "following_rate_decisiondate_15days        -0.066667\n",
       "media_rate_decisiondate_15days            -0.400000\n",
       "followers_rate_decisiondate_30days         0.800000\n",
       "following_rate_decisiondate_30days        -0.200000\n",
       "media_rate_decisiondate_30days            -0.133333\n",
       "followers_rate_decisiondate_60days         1.733333\n",
       "following_rate_decisiondate_60days        -0.133333\n",
       "media_rate_decisiondate_60days            -0.016667\n",
       "followers_rate_decisiondate_90days         1.200000\n",
       "following_rate_decisiondate_90days        -0.011111\n",
       "media_rate_decisiondate_90days             0.022222\n",
       "avg_total_orders                          18.500000\n",
       "avg_new_customers                          0.000000\n",
       "avg_customer_num                           0.000000\n",
       "new_influencer                             0.000000\n",
       "last_orders_total                          0.000000\n",
       "last_new_customers                         0.000000\n",
       "last_customer_num                          0.000000\n",
       "days_from_last_posting                    16.000000\n",
       "days_from_last_sponsored                 178.000000\n",
       "days_from_last_org_branded               145.000000\n",
       "days_from_last_org_nonbranded             16.000000\n",
       "days_interval_posting                      9.787879\n",
       "days_interval_sponsored                   20.833333\n",
       "days_interval_org_branded                 64.666667\n",
       "days_interval_org_nonbranded              14.363636\n",
       "90days_comment_count                     106.600000\n",
       "90days_like_count                        844.000000\n",
       "num_sponsored_posts_90days                 0.000000\n",
       "num_organic_branded_90days                 0.000000\n",
       "num_organic_nonbranded_90days              5.000000\n",
       "num_posts_90days                           5.000000\n",
       "60days_comment_count                     142.333333\n",
       "60days_like_count                        967.666667\n",
       "num_sponsored_posts_60days                 0.000000\n",
       "num_organic_branded_60days                 0.000000\n",
       "num_organic_nonbranded_60days              3.000000\n",
       "num_posts_60days                           3.000000\n",
       "30days_comment_count                     142.333333\n",
       "30days_like_count                        967.666667\n",
       "num_sponsored_posts_30days                 0.000000\n",
       "num_organic_branded_30days                 0.000000\n",
       "num_organic_nonbranded_30days              3.000000\n",
       "num_posts_30days                           3.000000\n",
       "15days_comment_count                       0.000000\n",
       "15days_like_count                          0.000000\n",
       "num_sponsored_posts_15days                 0.000000\n",
       "num_organic_branded_15days                 0.000000\n",
       "num_organic_nonbranded_15days              0.000000\n",
       "num_posts_15days                           0.000000\n",
       "7days_comment_count                        0.000000\n",
       "7days_like_count                           0.000000\n",
       "num_sponsored_posts_7days                  0.000000\n",
       "num_organic_branded_7days                  0.000000\n",
       "num_organic_nonbranded_7days               0.000000\n",
       "num_posts_7days                            0.000000\n",
       "first_campaign_time_0                      0.000000\n",
       "first_campaign_time_2019-07-06             0.000000\n",
       "first_campaign_time_2019-09-20             0.000000\n",
       "first_campaign_time_2019-10-19             0.000000\n",
       "first_campaign_time_2019-12-03             0.000000\n",
       "first_campaign_time_2019-12-18             0.000000\n",
       "first_campaign_time_2020-01-14             0.000000\n",
       "first_campaign_time_2020-01-24             0.000000\n",
       "first_campaign_time_2020-01-26             0.000000\n",
       "first_campaign_time_2020-02-20             0.000000\n",
       "first_campaign_time_2020-03-16             0.000000\n",
       "first_campaign_time_2020-05-08             0.000000\n",
       "first_campaign_time_2020-05-13             0.000000\n",
       "first_campaign_time_2020-10-04             0.000000\n",
       "first_campaign_time_2020-10-11             0.000000\n",
       "first_campaign_time_2020-10-21             0.000000\n",
       "first_campaign_time_2020-10-22             0.000000\n",
       "first_campaign_time_2020-12-15             0.000000\n",
       "first_campaign_time_2020-12-17             0.000000\n",
       "first_campaign_time_2021-01-26             0.000000\n",
       "first_campaign_time_2021-01-28             0.000000\n",
       "first_campaign_time_2021-02-01             0.000000\n",
       "first_campaign_time_2021-02-08             0.000000\n",
       "first_campaign_time_2021-02-11             0.000000\n",
       "first_campaign_time_2021-02-12             0.000000\n",
       "first_campaign_time_2021-02-13             0.000000\n",
       "first_campaign_time_2021-02-16             0.000000\n",
       "first_campaign_time_2021-02-22             0.000000\n",
       "first_campaign_time_2021-02-25             0.000000\n",
       "first_campaign_time_2021-02-26             0.000000\n",
       "first_campaign_time_2021-03-02             0.000000\n",
       "first_campaign_time_2021-03-09             0.000000\n",
       "first_campaign_time_2021-03-12             0.000000\n",
       "first_campaign_time_2021-03-14             0.000000\n",
       "first_campaign_time_2021-03-22             0.000000\n",
       "first_campaign_time_2021-03-26             0.000000\n",
       "first_campaign_time_2021-04-01             0.000000\n",
       "first_campaign_time_2021-04-08             0.000000\n",
       "first_campaign_time_2021-04-09             0.000000\n",
       "first_campaign_time_2021-04-15             0.000000\n",
       "first_campaign_time_2021-04-18             0.000000\n",
       "first_campaign_time_2021-04-20             0.000000\n",
       "first_campaign_time_2021-04-25             0.000000\n",
       "first_campaign_time_2021-04-29             0.000000\n",
       "first_campaign_time_2021-05-01             0.000000\n",
       "first_campaign_time_2021-05-06             0.000000\n",
       "first_campaign_time_2021-05-15             0.000000\n",
       "first_campaign_time_2021-05-20             0.000000\n",
       "first_campaign_time_2021-06-01             0.000000\n",
       "first_campaign_time_2021-06-14             0.000000\n",
       "first_campaign_time_2021-06-16             0.000000\n",
       "first_campaign_time_2021-06-18             0.000000\n",
       "first_campaign_time_2021-06-20             0.000000\n",
       "first_campaign_time_2021-06-21             0.000000\n",
       "first_campaign_time_2021-06-23             0.000000\n",
       "first_campaign_time_2021-07-01             0.000000\n",
       "first_campaign_time_2021-07-05             0.000000\n",
       "first_campaign_time_2021-07-08             0.000000\n",
       "first_campaign_time_2021-07-14             0.000000\n",
       "first_campaign_time_2021-07-19             0.000000\n",
       "first_campaign_time_2021-07-25             0.000000\n",
       "first_campaign_time_2021-08-01             0.000000\n",
       "first_campaign_time_2021-08-05             0.000000\n",
       "first_campaign_time_2021-08-08             0.000000\n",
       "first_campaign_time_2021-08-09             0.000000\n",
       "first_campaign_time_2021-08-14             0.000000\n",
       "first_campaign_time_2021-08-20             0.000000\n",
       "first_campaign_time_2021-08-23             0.000000\n",
       "first_campaign_time_2021-08-28             0.000000\n",
       "first_campaign_time_2021-09-01             0.000000\n",
       "first_campaign_time_2021-09-05             0.000000\n",
       "first_campaign_time_2021-09-10             0.000000\n",
       "first_campaign_time_2021-09-15             0.000000\n",
       "first_campaign_time_2021-09-20             0.000000\n",
       "first_campaign_time_2021-09-21             0.000000\n",
       "first_campaign_time_2021-09-24             0.000000\n",
       "first_campaign_time_2021-10-01             0.000000\n",
       "first_campaign_time_2021-10-07             0.000000\n",
       "first_campaign_time_2021-10-15             0.000000\n",
       "first_campaign_time_2021-10-20             0.000000\n",
       "first_campaign_time_2021-10-23             0.000000\n",
       "first_campaign_time_2021-11-21             0.000000\n",
       "first_campaign_time_2021-11-22             0.000000\n",
       "first_campaign_time_2021-11-23             0.000000\n",
       "first_campaign_time_2021-11-24             0.000000\n",
       "first_campaign_time_2021-11-25             0.000000\n",
       "first_campaign_time_2021-11-26             0.000000\n",
       "first_campaign_time_2021-11-27             0.000000\n",
       "first_campaign_time_2021-11-29             0.000000\n",
       "first_campaign_time_2021-12-25             1.000000\n",
       "first_campaign_time_2021-12-26             0.000000\n",
       "first_campaign_time_2021-12-28             0.000000\n",
       "first_campaign_time_2022-01-01             0.000000\n",
       "first_campaign_time_2022-01-05             0.000000\n",
       "first_campaign_time_2022-01-10             0.000000\n",
       "first_campaign_time_2022-01-12             0.000000\n",
       "first_campaign_time_2022-01-20             0.000000\n",
       "first_campaign_time_2022-01-24             0.000000\n",
       "first_campaign_time_2022-01-27             0.000000\n",
       "first_campaign_time_2022-01-29             0.000000\n",
       "first_campaign_time_2022-01-31             0.000000\n",
       "first_campaign_time_2022-02-01             0.000000\n",
       "first_campaign_time_2022-02-03             0.000000\n",
       "first_campaign_time_2022-02-05             0.000000\n",
       "first_campaign_time_2022-02-07             0.000000\n",
       "first_campaign_time_2022-02-10             0.000000\n",
       "first_campaign_time_2022-02-14             0.000000\n",
       "first_campaign_time_2022-02-20             0.000000\n",
       "first_campaign_time_2022-02-23             0.000000\n",
       "first_campaign_time_2022-03-01             0.000000\n",
       "first_campaign_time_2022-03-10             0.000000\n",
       "first_campaign_time_2022-03-15             0.000000\n",
       "first_campaign_time_2022-03-16             0.000000\n",
       "first_campaign_time_2022-03-20             0.000000\n",
       "first_campaign_time_2022-03-21             0.000000\n",
       "first_campaign_time_2022-03-24             0.000000\n",
       "first_campaign_time_2022-03-25             0.000000\n",
       "first_campaign_time_2022-03-28             0.000000\n",
       "first_campaign_time_2022-03-31             0.000000\n",
       "first_campaign_time_2022-04-03             0.000000\n",
       "first_campaign_time_2022-04-21             0.000000\n",
       "first_campaign_time_2022-04-23             0.000000\n",
       "first_campaign_time_2022-04-26             0.000000\n",
       "first_campaign_time_2022-04-28             0.000000\n",
       "first_campaign_time_2022-05-08             0.000000\n",
       "first_campaign_time_2022-05-12             0.000000\n",
       "first_campaign_time_2022-05-13             0.000000\n",
       "first_campaign_time_2022-05-18             0.000000\n",
       "first_campaign_time_2022-05-19             0.000000\n",
       "first_campaign_time_2022-05-25             0.000000\n",
       "first_campaign_time_2022-05-26             0.000000\n",
       "first_campaign_time_2022-05-27             0.000000\n",
       "first_campaign_time_2022-05-29             0.000000\n",
       "first_campaign_time_2022-06-01             0.000000\n",
       "first_campaign_time_2022-06-02             0.000000\n",
       "first_campaign_time_2022-06-08             0.000000\n",
       "first_campaign_time_2022-06-16             0.000000\n",
       "first_campaign_time_2022-06-20             0.000000\n",
       "first_campaign_time_2022-06-23             0.000000\n",
       "first_campaign_time_2022-06-24             0.000000\n",
       "first_campaign_time_2022-06-30             0.000000\n",
       "first_campaign_time_2022-07-07             0.000000\n",
       "first_campaign_time_2022-07-26             0.000000\n",
       "first_campaign_time_2022-08-01             0.000000\n",
       "first_campaign_time_2022-08-11             0.000000\n",
       "first_campaign_time_2022-08-17             0.000000\n",
       "first_campaign_time_2022-08-18             0.000000\n",
       "first_campaign_time_2022-08-20             0.000000\n",
       "first_campaign_time_2022-09-02             0.000000\n",
       "first_campaign_time_2022-09-05             0.000000\n",
       "first_campaign_time_2022-09-07             0.000000\n",
       "first_campaign_time_2022-09-12             0.000000\n",
       "first_campaign_time_2022-09-15             0.000000\n",
       "first_campaign_time_2022-09-16             0.000000\n",
       "first_campaign_time_2022-09-19             0.000000\n",
       "first_campaign_time_2022-10-03             0.000000\n",
       "first_campaign_time_2022-10-10             0.000000\n",
       "first_campaign_time_2022-10-12             0.000000\n",
       "first_campaign_time_2022-10-13             0.000000\n",
       "first_campaign_time_2022-10-19             0.000000\n",
       "first_campaign_time_2022-10-23             0.000000\n",
       "first_campaign_time_2022-10-24             0.000000\n",
       "first_campaign_time_2022-10-25             0.000000\n",
       "first_campaign_time_2022-10-27             0.000000\n",
       "first_campaign_time_2022-11-07             0.000000\n",
       "first_campaign_time_2022-11-19             0.000000\n",
       "first_campaign_time_2022-11-20             0.000000\n",
       "first_campaign_time_2022-11-21             0.000000\n",
       "first_campaign_time_2022-11-22             0.000000\n",
       "first_campaign_time_2022-11-24             0.000000\n",
       "first_campaign_time_2022-11-25             0.000000\n",
       "first_campaign_time_2022-11-26             0.000000\n",
       "first_campaign_time_2023-01-01             0.000000\n",
       "first_campaign_time_2023-01-19             0.000000\n",
       "first_campaign_time_2023-01-20             0.000000\n",
       "first_campaign_time_2023-01-26             0.000000\n",
       "first_campaign_time_2023-02-01             0.000000\n",
       "first_campaign_time_2023-02-19             0.000000\n",
       "first_campaign_time_2023-02-20             0.000000\n",
       "first_campaign_time_2023-02-22             0.000000\n",
       "country_y_AT                               0.000000\n",
       "country_y_BE                               0.000000\n",
       "country_y_DE                               1.000000\n",
       "country_y_FR                               0.000000\n",
       "country_y_NL                               0.000000\n",
       "country_y_PL                               0.000000\n",
       "country_y_SE                               0.000000\n",
       "yearmonth_0.0                              1.000000\n",
       "yearmonth_201907.0                         0.000000\n",
       "yearmonth_201909.0                         0.000000\n",
       "yearmonth_201912.0                         0.000000\n",
       "yearmonth_202001.0                         0.000000\n",
       "yearmonth_202002.0                         0.000000\n",
       "yearmonth_202003.0                         0.000000\n",
       "yearmonth_202005.0                         0.000000\n",
       "yearmonth_202010.0                         0.000000\n",
       "yearmonth_202012.0                         0.000000\n",
       "yearmonth_202101.0                         0.000000\n",
       "yearmonth_202102.0                         0.000000\n",
       "yearmonth_202103.0                         0.000000\n",
       "yearmonth_202104.0                         0.000000\n",
       "yearmonth_202105.0                         0.000000\n",
       "yearmonth_202106.0                         0.000000\n",
       "yearmonth_202107.0                         0.000000\n",
       "yearmonth_202108.0                         0.000000\n",
       "yearmonth_202109.0                         0.000000\n",
       "yearmonth_202110.0                         0.000000\n",
       "yearmonth_202111.0                         0.000000\n",
       "yearmonth_202112.0                         0.000000\n",
       "yearmonth_202201.0                         0.000000\n",
       "yearmonth_202202.0                         0.000000\n",
       "yearmonth_202203.0                         0.000000\n",
       "yearmonth_202204.0                         0.000000\n",
       "yearmonth_202205.0                         0.000000\n",
       "yearmonth_202206.0                         0.000000\n",
       "yearmonth_202207.0                         0.000000\n",
       "yearmonth_202208.0                         0.000000\n",
       "yearmonth_202209.0                         0.000000\n",
       "yearmonth_202210.0                         0.000000\n",
       "yearmonth_202211.0                         0.000000\n",
       "yearmonth_202212.0                         0.000000\n",
       "yearmonth_202301.0                         0.000000\n",
       "yearmonth_202302.0                         0.000000\n",
       "yearmonth_202303.0                         0.000000\n",
       "Name: 0, dtype: float64"
      ]
     },
     "execution_count": 107,
     "metadata": {},
     "output_type": "execute_result"
    }
   ],
   "source": [
    "df_transformed.iloc[0]"
   ]
  },
  {
   "cell_type": "code",
   "execution_count": null,
   "id": "cffd36d4-d488-45d0-a364-a373695a83a7",
   "metadata": {},
   "outputs": [],
   "source": []
  },
  {
   "cell_type": "code",
   "execution_count": 108,
   "id": "e7fd4e31-8f99-4e3d-9c6f-1297d799049e",
   "metadata": {
    "tags": []
   },
   "outputs": [],
   "source": [
    "\n",
    "def getTensorDataset(my_x, my_y):\n",
    "    tensor_x = torch.Tensor(my_x)\n",
    "    tensor_y = torch.Tensor(my_y)\n",
    "    return torch.utils.data.TensorDataset(tensor_x, tensor_y)\n",
    "\n"
   ]
  },
  {
   "cell_type": "code",
   "execution_count": 109,
   "id": "ea4c79de-ff35-44eb-ac05-d2c8eaec1c95",
   "metadata": {
    "tags": []
   },
   "outputs": [],
   "source": [
    "\n",
    "class Expert(nn.Module):\n",
    "    def __init__(self, input_size, output_size, hidden_size):\n",
    "        super(Expert, self).__init__()\n",
    "        self.fc1 = nn.Linear(input_size, hidden_size)\n",
    "        self.fc2 = nn.Linear(hidden_size, output_size)\n",
    "        self.relu = nn.ReLU()\n",
    "        self.dropout = nn.Dropout(0.3)\n",
    "\n",
    "    def forward(self, x):\n",
    "        out = self.fc1(x)\n",
    "        out = self.relu(out)\n",
    "        out = self.dropout(out)\n",
    "        out = self.fc2(out)\n",
    "        return out\n",
    "\n",
    "class Tower(nn.Module):\n",
    "    def __init__(self, input_size, output_size, hidden_size):\n",
    "        super(Tower, self).__init__()\n",
    "        self.fc1 = nn.Linear(input_size, hidden_size)\n",
    "        self.fc2 = nn.Linear(hidden_size, output_size)\n",
    "        self.relu = nn.ReLU()\n",
    "        self.dropout = nn.Dropout(0.4)\n",
    "        self.sigmoid = nn.Sigmoid()\n",
    "    def forward(self, x):\n",
    "        out = self.fc1(x)\n",
    "        out = self.relu(out)\n",
    "        out = self.dropout(out)\n",
    "        out = self.fc2(out)\n",
    "        out = self.sigmoid(out)\n",
    "        return out\n",
    "\n",
    "class MMOE(nn.Module):\n",
    "    def __init__(self, input_size, num_experts, experts_out, experts_hidden, towers_hidden, tasks):\n",
    "        super(MMOE, self).__init__()\n",
    "        self.input_size = input_size\n",
    "        self.num_experts = num_experts\n",
    "        self.experts_out = experts_out\n",
    "        self.experts_hidden = experts_hidden\n",
    "        self.towers_hidden = towers_hidden\n",
    "        self.tasks = tasks\n",
    "\n",
    "        self.softmax = nn.Softmax(dim=1)\n",
    "\n",
    "        self.experts = nn.ModuleList([Expert(self.input_size, self.experts_out, self.experts_hidden) for i in range(self.num_experts)])\n",
    "        self.w_gates = nn.ParameterList([nn.Parameter(torch.randn(input_size, num_experts), requires_grad=True) for i in range(self.tasks)])\n",
    "        self.towers = nn.ModuleList([Tower(self.experts_out, 1, self.towers_hidden) for i in range(self.tasks)])\n",
    "\n",
    "    def forward(self, x):\n",
    "        experts_o = [e(x) for e in self.experts]\n",
    "        experts_o_tensor = torch.stack(experts_o)\n",
    "\n",
    "        gates_o = [self.softmax(x @ g) for g in self.w_gates]\n",
    "\n",
    "        tower_input = [g.t().unsqueeze(2).expand(-1, -1, self.experts_out) * experts_o_tensor for g in gates_o]\n",
    "        tower_input = [torch.sum(ti, dim=0) for ti in tower_input]\n",
    "\n",
    "        final_output = [t(ti) for t, ti in zip(self.towers, tower_input)]\n",
    "        return final_output\n"
   ]
  },
  {
   "cell_type": "code",
   "execution_count": 110,
   "id": "87e3bf25-26cc-4085-ac9d-956a2a2b5195",
   "metadata": {
    "tags": []
   },
   "outputs": [],
   "source": [
    "\n",
    "def test(loader):\n",
    "    t1_pred, t2_pred, t1_target, t2_target = [], [], [], []\n",
    "    model.eval()\n",
    "    with torch.no_grad():\n",
    "        epoch_loss = []\n",
    "        for x, y in loader:\n",
    "            x, y = x.to(device), y.to(device)\n",
    "            yhat = model(x)\n",
    "            y1, y2 = y[:, 0],y[:, 1]\n",
    "            yhat_1, yhat_2 = yhat[0], yhat[1]\n",
    "\n",
    "            loss1, loss2 = loss_fn(yhat_1, y1.view(-1, 1)), loss_fn(yhat_2, y2.view(-1, 1))\n",
    "            loss = loss1 + loss2\n",
    "\n",
    "            # t1_hat = yhat_1.view(-1) > 0.7\n",
    "            # t2_hat = yhat_2.view(-1) > 0.5\n",
    "            t1_hat, t2_hat = list(yhat_1.cpu()), list(yhat_2.cpu())\n",
    "\n",
    "            t1_pred += t1_hat\n",
    "            t2_pred += t2_hat\n",
    "            t1_target += list(y1.cpu())\n",
    "            t2_target += list(y2.cpu())\n",
    "\n",
    "    # t1_pred = [1 if x else 0 for x in list(t1_pred)]\n",
    "    # t2_pred = [1 if x else 0 for x in list(t2_pred)]\n",
    "\n",
    "    auc_1 = roc_auc_score(t1_target, t1_pred)\n",
    "    auc_2 = roc_auc_score(t2_target, t2_pred)\n",
    "    return auc_1, auc_2\n",
    "\n",
    "\n"
   ]
  },
  {
   "cell_type": "code",
   "execution_count": 111,
   "id": "22bfcdd9-cba7-4b10-af0e-012770c3eb06",
   "metadata": {
    "tags": []
   },
   "outputs": [],
   "source": [
    "\n",
    "# train_data, train_label, validation_data, validation_label, test_data, test_label, output_info = data_preparation()\n",
    "#print(output_info)\n"
   ]
  },
  {
   "cell_type": "code",
   "execution_count": 112,
   "id": "8ca6cbe0-a2d5-4e03-b588-1554cf21cca2",
   "metadata": {
    "tags": []
   },
   "outputs": [],
   "source": [
    "df_labels_np = df_labels.to_numpy()"
   ]
  },
  {
   "cell_type": "code",
   "execution_count": null,
   "id": "feeb28e2-c9f3-4d10-b405-8dbc4234438e",
   "metadata": {
    "tags": []
   },
   "outputs": [],
   "source": []
  },
  {
   "cell_type": "code",
   "execution_count": null,
   "id": "d72844cf-5d44-4eed-a735-a64a6aaa1064",
   "metadata": {
    "tags": []
   },
   "outputs": [],
   "source": []
  },
  {
   "cell_type": "code",
   "execution_count": null,
   "id": "b6046b8e-079f-4fd7-9b60-481889c0a8e3",
   "metadata": {},
   "outputs": [],
   "source": []
  },
  {
   "cell_type": "code",
   "execution_count": 113,
   "id": "b6d1252f-f052-4c94-96d4-327fbd6bd0c5",
   "metadata": {
    "tags": []
   },
   "outputs": [],
   "source": [
    "# df_label_tmp = np.column_stack((np.argmax(df_labels_np_tp[0]), np.argmax(df_labels_np_tp[1]), np.argmax(df_labels_np_tp[2])))\n",
    "df_dataset = getTensorDataset(df_transformed.to_numpy(), df_labels_np)\n",
    "train_size = int(0.8 * len(df_dataset))\n",
    "test_size = len(df_dataset) - train_size\n",
    "train_dataset, test_dataset = torch.utils.data.random_split(dataset=df_dataset, lengths=[train_size, test_size], generator=torch.manual_seed(0))\n",
    "\n",
    "train_loader = DataLoader(dataset=train_dataset, batch_size=batch_size, shuffle=True)\n",
    "test_loader = DataLoader(dataset=test_dataset, batch_size=batch_size)"
   ]
  },
  {
   "cell_type": "code",
   "execution_count": 93,
   "id": "758a2f8b-f31a-4ff9-8852-ff8b6783be64",
   "metadata": {
    "tags": []
   },
   "outputs": [
    {
     "data": {
      "text/plain": [
       "(378961, 320)"
      ]
     },
     "execution_count": 93,
     "metadata": {},
     "output_type": "execute_result"
    }
   ],
   "source": [
    "df_transformed.to_numpy().shape"
   ]
  },
  {
   "cell_type": "code",
   "execution_count": 85,
   "id": "10109850-0e3c-4a3d-9b7d-5e04a8061bc5",
   "metadata": {
    "tags": []
   },
   "outputs": [
    {
     "data": {
      "text/plain": [
       "297"
      ]
     },
     "execution_count": 85,
     "metadata": {},
     "output_type": "execute_result"
    }
   ],
   "source": [
    "len(train_loader)"
   ]
  },
  {
   "cell_type": "code",
   "execution_count": 86,
   "id": "d9f2659b-698f-4f97-be17-852ece6ee67f",
   "metadata": {
    "tags": []
   },
   "outputs": [
    {
     "data": {
      "text/plain": [
       "75"
      ]
     },
     "execution_count": 86,
     "metadata": {},
     "output_type": "execute_result"
    }
   ],
   "source": [
    "len(test_loader)"
   ]
  },
  {
   "cell_type": "code",
   "execution_count": 118,
   "id": "f2b2712e-82b7-4b12-ab29-f1eec2d2795d",
   "metadata": {
    "tags": []
   },
   "outputs": [],
   "source": [
    "model = MMOE(input_size=320, num_experts=6, experts_out=16, experts_hidden=32, towers_hidden=8, tasks=3)\n",
    "model = model.to(device)\n",
    "lr = 1e-4\n",
    "n_epochs = 10\n",
    "loss_fn = nn.BCELoss(reduction='mean')\n",
    "optimizer = optim.Adam(model.parameters(), lr=lr, weight_decay=1e-5)\n",
    "losses = []\n",
    "val_loss = []\n"
   ]
  },
  {
   "cell_type": "code",
   "execution_count": 120,
   "id": "b7ddefaa-a243-4c2a-8f4e-6c642dcf029a",
   "metadata": {
    "tags": []
   },
   "outputs": [],
   "source": [
    "for epoch in range(n_epochs):\n",
    "    model.train()\n",
    "    epoch_loss = []\n",
    "    c = 0\n",
    "    print(\"Epoch: {}/{}\".format(epoch, n_epochs))\n",
    "    for x, y in train_loader:\n",
    "        x, y = x.to(device), y.to(device)\n",
    "        y_hat = model(x)\n",
    "\n",
    "        y1, y2 = y[:, 0], y[:, 1]\n",
    "        y_1, y_2 = y_hat[0], y_hat[1]\n",
    "\n",
    "        loss1 = loss_fn(y_1, y1.view(-1, 1))\n",
    "        loss2 = loss_fn(y_2, y2.view(-1, 1))\n",
    "        loss = loss1 + loss2\n",
    "        loss.backward()\n",
    "        optimizer.step()\n",
    "        optimizer.zero_grad()\n",
    "        epoch_loss.append(loss.item())\n",
    "    losses.append(np.mean(epoch_loss))\n",
    "\n",
    "    auc1, auc2 = test(val_loader)\n",
    "    print('train loss: {:.5f}, val task1 auc: {:.5f}, val task2 auc: {:.3f}'.format(np.mean(epoch_loss), auc1, auc2))\n"
   ]
  },
  {
   "cell_type": "code",
   "execution_count": 17,
   "id": "5f056458-424e-4590-8a9d-a5a3a937e0d3",
   "metadata": {
    "tags": []
   },
   "outputs": [
    {
     "name": "stdout",
     "output_type": "stream",
     "text": [
      "test task1 auc: 0.853, test task2 auc: 0.874\n"
     ]
    }
   ],
   "source": [
    "auc1, auc2 = test(test_loader)\n",
    "print('test task1 auc: {:.3f}, test task2 auc: {:.3f}'.format(auc1, auc2))"
   ]
  },
  {
   "cell_type": "code",
   "execution_count": null,
   "id": "48a955fa-f01d-47ee-88aa-84cfd34d6abd",
   "metadata": {},
   "outputs": [],
   "source": []
  }
 ],
 "metadata": {
  "kernelspec": {
   "display_name": "519087",
   "language": "",
   "name": "519087"
  },
  "language_info": {
   "codemirror_mode": {
    "name": "ipython",
    "version": 3
   },
   "file_extension": ".py",
   "mimetype": "text/x-python",
   "name": "python",
   "nbconvert_exporter": "python",
   "pygments_lexer": "ipython3",
   "version": "3.7.3"
  }
 },
 "nbformat": 4,
 "nbformat_minor": 5
}
